{
 "cells": [
  {
   "cell_type": "markdown",
   "metadata": {},
   "source": [
    "### Chapter 2  Variables, expressions and statements"
   ]
  },
  {
   "cell_type": "markdown",
   "metadata": {},
   "source": [
    "#### The volume of a sphere with radius r is 4/3 π r3. What is the volume of a sphere with radius 5?"
   ]
  },
  {
   "cell_type": "code",
   "execution_count": null,
   "metadata": {},
   "outputs": [],
   "source": [
    "import math\n",
    "r = 5\n",
    "\n",
    "4.0 / 3.0 * math.pi * r ** 3"
   ]
  },
  {
   "cell_type": "code",
   "execution_count": null,
   "metadata": {},
   "outputs": [],
   "source": [
    "# Suppose the cover price of a book is $24.95, but bookstores get a 40 % discount. \n",
    "# Shipping costs $3 for the first copy and 75 cents for each additional copy. \n",
    "# What is the total wholesale cost for 60 copies?\n",
    "\n",
    "book_price = 24.95 \n",
    "discount = 40\n",
    "number_copies = 60\n",
    "\n",
    "wholesale_cost = ((book_price - ((book_price * discount) / 100)) * 60)+ (3 + ((number_copies - 1) * 0.75))\n",
    "\n",
    "wholesale_cost"
   ]
  },
  {
   "cell_type": "code",
   "execution_count": 54,
   "metadata": {},
   "outputs": [
    {
     "name": "stdout",
     "output_type": "stream",
     "text": [
      "7:29:36\n"
     ]
    }
   ],
   "source": [
    "# If I leave my house at 6:52 am and run 1 mile at an easy pace (8:15 per mile), \n",
    "# then 3 miles at tempo (7:12 per mile) and 1 mile at easy pace again, \n",
    "# what time do I get home for breakfast?\n",
    "import datetime\n",
    "import numpy as np\n",
    "\n",
    "# create variables\n",
    "time_start = '6:52:00'\n",
    "time_easy = '0:8:00'\n",
    "miles_easy = 2\n",
    "time_tempo = '0:7:12'\n",
    "miles_tempo = 3\n",
    "\n",
    "# create list acording to the number of miles \n",
    "start_list = [time_start]\n",
    "easy_list = np.repeat(time_easy, miles_easy).tolist()\n",
    "tempo_list = np.repeat(time_tempo, miles_tempo).tolist()\n",
    "\n",
    "# join lists \n",
    "timeList = start_list + easy_list + tempo_list\n",
    "\n",
    "# sumarise times\n",
    "time_sum = datetime.timedelta()\n",
    "for i in timeList:\n",
    "    (h, m, s) = i.split(':')\n",
    "    d = datetime.timedelta(hours=int(h), minutes=int(m), seconds=int(s))\n",
    "    time_sum += d\n",
    "print(str(time_sum))\n"
   ]
  },
  {
   "cell_type": "markdown",
   "metadata": {},
   "source": [
    "### Chapter 3  Functions"
   ]
  },
  {
   "cell_type": "code",
   "execution_count": 26,
   "metadata": {},
   "outputs": [
    {
     "name": "stdout",
     "output_type": "stream",
     "text": [
      "+ - - - - + - - - - +\n",
      "|         |         |\n",
      "|         |         |\n",
      "|         |         |\n",
      "|         |         |\n",
      "+ - - - - + - - - - +\n",
      "|         |         |\n",
      "|         |         |\n",
      "|         |         |\n",
      "|         |         |\n",
      "+ - - - - + - - - - +\n"
     ]
    }
   ],
   "source": [
    "# Write a function that draws a grid like the following:\n",
    "# + - - - - + - - - - +\n",
    "# |         |         |\n",
    "# |         |         |\n",
    "# |         |         |\n",
    "# |         |         |\n",
    "# + - - - - + - - - - +\n",
    "# |         |         |\n",
    "# |         |         |\n",
    "# |         |         |\n",
    "# |         |         |\n",
    "# + - - - - + - - - - +\n",
    "\n",
    "def draws_grid(lines):\n",
    "    for n in range(0, lines): \n",
    "        if n == 0 or n == 5 or n == 10:\n",
    "            print('+ ', 4 * '- ', '+ ', 4 * '- ', '+', sep='')\n",
    "        else:\n",
    "            print('| ', 4 * '  ', '| ', 4 * '  ', '|', sep='')\n",
    "\n",
    "draws_grid(11)"
   ]
  },
  {
   "cell_type": "code",
   "execution_count": null,
   "metadata": {},
   "outputs": [],
   "source": []
  }
 ],
 "metadata": {
  "kernelspec": {
   "display_name": "Python 3",
   "language": "python",
   "name": "python3"
  },
  "language_info": {
   "codemirror_mode": {
    "name": "ipython",
    "version": 3
   },
   "file_extension": ".py",
   "mimetype": "text/x-python",
   "name": "python",
   "nbconvert_exporter": "python",
   "pygments_lexer": "ipython3",
   "version": "3.8.5"
  }
 },
 "nbformat": 4,
 "nbformat_minor": 4
}
